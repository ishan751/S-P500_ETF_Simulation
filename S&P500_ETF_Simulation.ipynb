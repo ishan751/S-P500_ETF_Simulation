{
 "cells": [
  {
   "attachments": {},
   "cell_type": "markdown",
   "metadata": {},
   "source": [
    "# Using SPDR S&P 500 ETF Trust historical data to simulate its future price trend with 95% confidence interval"
   ]
  },
  {
   "cell_type": "code",
   "execution_count": 130,
   "metadata": {},
   "outputs": [],
   "source": [
    "# importing libraries\n",
    "import pandas as pd\n",
    "import numpy as np\n",
    "import matplotlib.pyplot as plt\n",
    "from matplotlib.pyplot import figure"
   ]
  },
  {
   "cell_type": "code",
   "execution_count": 131,
   "metadata": {},
   "outputs": [],
   "source": [
    "# set seed\n",
    "np.random.seed(5)"
   ]
  },
  {
   "cell_type": "code",
   "execution_count": 132,
   "metadata": {},
   "outputs": [
    {
     "data": {
      "text/html": [
       "<div>\n",
       "<style scoped>\n",
       "    .dataframe tbody tr th:only-of-type {\n",
       "        vertical-align: middle;\n",
       "    }\n",
       "\n",
       "    .dataframe tbody tr th {\n",
       "        vertical-align: top;\n",
       "    }\n",
       "\n",
       "    .dataframe thead th {\n",
       "        text-align: right;\n",
       "    }\n",
       "</style>\n",
       "<table border=\"1\" class=\"dataframe\">\n",
       "  <thead>\n",
       "    <tr style=\"text-align: right;\">\n",
       "      <th></th>\n",
       "      <th>Date</th>\n",
       "      <th>Open</th>\n",
       "      <th>High</th>\n",
       "      <th>Low</th>\n",
       "      <th>Close</th>\n",
       "      <th>Adj Close</th>\n",
       "      <th>Volume</th>\n",
       "    </tr>\n",
       "  </thead>\n",
       "  <tbody>\n",
       "    <tr>\n",
       "      <th>0</th>\n",
       "      <td>4/5/2021</td>\n",
       "      <td>403.459991</td>\n",
       "      <td>406.940002</td>\n",
       "      <td>403.380005</td>\n",
       "      <td>406.359985</td>\n",
       "      <td>403.741425</td>\n",
       "      <td>91684800.0</td>\n",
       "    </tr>\n",
       "    <tr>\n",
       "      <th>1</th>\n",
       "      <td>4/6/2021</td>\n",
       "      <td>405.760010</td>\n",
       "      <td>407.239990</td>\n",
       "      <td>405.399994</td>\n",
       "      <td>406.119995</td>\n",
       "      <td>403.502991</td>\n",
       "      <td>62021000.0</td>\n",
       "    </tr>\n",
       "    <tr>\n",
       "      <th>2</th>\n",
       "      <td>4/7/2021</td>\n",
       "      <td>405.940002</td>\n",
       "      <td>406.959991</td>\n",
       "      <td>405.450012</td>\n",
       "      <td>406.589996</td>\n",
       "      <td>403.969940</td>\n",
       "      <td>55836300.0</td>\n",
       "    </tr>\n",
       "    <tr>\n",
       "      <th>3</th>\n",
       "      <td>4/8/2021</td>\n",
       "      <td>407.929993</td>\n",
       "      <td>408.579987</td>\n",
       "      <td>406.929993</td>\n",
       "      <td>408.519989</td>\n",
       "      <td>405.887512</td>\n",
       "      <td>57863100.0</td>\n",
       "    </tr>\n",
       "    <tr>\n",
       "      <th>4</th>\n",
       "      <td>4/9/2021</td>\n",
       "      <td>408.390015</td>\n",
       "      <td>411.670013</td>\n",
       "      <td>408.260010</td>\n",
       "      <td>411.489990</td>\n",
       "      <td>408.838379</td>\n",
       "      <td>61104600.0</td>\n",
       "    </tr>\n",
       "  </tbody>\n",
       "</table>\n",
       "</div>"
      ],
      "text/plain": [
       "       Date        Open        High         Low       Close   Adj Close  \\\n",
       "0  4/5/2021  403.459991  406.940002  403.380005  406.359985  403.741425   \n",
       "1  4/6/2021  405.760010  407.239990  405.399994  406.119995  403.502991   \n",
       "2  4/7/2021  405.940002  406.959991  405.450012  406.589996  403.969940   \n",
       "3  4/8/2021  407.929993  408.579987  406.929993  408.519989  405.887512   \n",
       "4  4/9/2021  408.390015  411.670013  408.260010  411.489990  408.838379   \n",
       "\n",
       "       Volume  \n",
       "0  91684800.0  \n",
       "1  62021000.0  \n",
       "2  55836300.0  \n",
       "3  57863100.0  \n",
       "4  61104600.0  "
      ]
     },
     "execution_count": 132,
     "metadata": {},
     "output_type": "execute_result"
    }
   ],
   "source": [
    "# reading in the data\n",
    "df = pd.read_csv(\"SPY_6month.csv\", parse_dates=True)\n",
    "df.head()"
   ]
  },
  {
   "cell_type": "code",
   "execution_count": 133,
   "metadata": {},
   "outputs": [
    {
     "data": {
      "text/html": [
       "<div>\n",
       "<style scoped>\n",
       "    .dataframe tbody tr th:only-of-type {\n",
       "        vertical-align: middle;\n",
       "    }\n",
       "\n",
       "    .dataframe tbody tr th {\n",
       "        vertical-align: top;\n",
       "    }\n",
       "\n",
       "    .dataframe thead th {\n",
       "        text-align: right;\n",
       "    }\n",
       "</style>\n",
       "<table border=\"1\" class=\"dataframe\">\n",
       "  <thead>\n",
       "    <tr style=\"text-align: right;\">\n",
       "      <th></th>\n",
       "      <th>Date</th>\n",
       "      <th>Open</th>\n",
       "      <th>High</th>\n",
       "      <th>Low</th>\n",
       "      <th>Close</th>\n",
       "      <th>Adj Close</th>\n",
       "      <th>Volume</th>\n",
       "      <th>change</th>\n",
       "    </tr>\n",
       "  </thead>\n",
       "  <tbody>\n",
       "    <tr>\n",
       "      <th>0</th>\n",
       "      <td>4/5/2021</td>\n",
       "      <td>403.459991</td>\n",
       "      <td>406.940002</td>\n",
       "      <td>403.380005</td>\n",
       "      <td>406.359985</td>\n",
       "      <td>403.741425</td>\n",
       "      <td>91684800.0</td>\n",
       "      <td>-0.281434</td>\n",
       "    </tr>\n",
       "    <tr>\n",
       "      <th>1</th>\n",
       "      <td>4/6/2021</td>\n",
       "      <td>405.760010</td>\n",
       "      <td>407.239990</td>\n",
       "      <td>405.399994</td>\n",
       "      <td>406.119995</td>\n",
       "      <td>403.502991</td>\n",
       "      <td>62021000.0</td>\n",
       "      <td>2.257019</td>\n",
       "    </tr>\n",
       "    <tr>\n",
       "      <th>2</th>\n",
       "      <td>4/7/2021</td>\n",
       "      <td>405.940002</td>\n",
       "      <td>406.959991</td>\n",
       "      <td>405.450012</td>\n",
       "      <td>406.589996</td>\n",
       "      <td>403.969940</td>\n",
       "      <td>55836300.0</td>\n",
       "      <td>1.970062</td>\n",
       "    </tr>\n",
       "    <tr>\n",
       "      <th>3</th>\n",
       "      <td>4/8/2021</td>\n",
       "      <td>407.929993</td>\n",
       "      <td>408.579987</td>\n",
       "      <td>406.929993</td>\n",
       "      <td>408.519989</td>\n",
       "      <td>405.887512</td>\n",
       "      <td>57863100.0</td>\n",
       "      <td>2.042481</td>\n",
       "    </tr>\n",
       "    <tr>\n",
       "      <th>4</th>\n",
       "      <td>4/9/2021</td>\n",
       "      <td>408.390015</td>\n",
       "      <td>411.670013</td>\n",
       "      <td>408.260010</td>\n",
       "      <td>411.489990</td>\n",
       "      <td>408.838379</td>\n",
       "      <td>61104600.0</td>\n",
       "      <td>-0.448364</td>\n",
       "    </tr>\n",
       "  </tbody>\n",
       "</table>\n",
       "</div>"
      ],
      "text/plain": [
       "       Date        Open        High         Low       Close   Adj Close  \\\n",
       "0  4/5/2021  403.459991  406.940002  403.380005  406.359985  403.741425   \n",
       "1  4/6/2021  405.760010  407.239990  405.399994  406.119995  403.502991   \n",
       "2  4/7/2021  405.940002  406.959991  405.450012  406.589996  403.969940   \n",
       "3  4/8/2021  407.929993  408.579987  406.929993  408.519989  405.887512   \n",
       "4  4/9/2021  408.390015  411.670013  408.260010  411.489990  408.838379   \n",
       "\n",
       "       Volume    change  \n",
       "0  91684800.0 -0.281434  \n",
       "1  62021000.0  2.257019  \n",
       "2  55836300.0  1.970062  \n",
       "3  57863100.0  2.042481  \n",
       "4  61104600.0 -0.448364  "
      ]
     },
     "execution_count": 133,
     "metadata": {},
     "output_type": "execute_result"
    }
   ],
   "source": [
    "# developing change column\n",
    "df[\"change\"] = df[\"Open\"] - df[\"Adj Close\"] \n",
    "df = df.drop(df.index[126])\n",
    "df.head()"
   ]
  },
  {
   "cell_type": "code",
   "execution_count": 134,
   "metadata": {},
   "outputs": [
    {
     "data": {
      "text/plain": [
       "array([-0.281434,  2.257019,  1.970062,  2.042481, -0.448364])"
      ]
     },
     "execution_count": 134,
     "metadata": {},
     "output_type": "execute_result"
    }
   ],
   "source": [
    "# modifying change df column to np array\n",
    "change = df[\"change\"].to_numpy()\n",
    "change[0:5]"
   ]
  },
  {
   "cell_type": "code",
   "execution_count": 135,
   "metadata": {},
   "outputs": [],
   "source": [
    "# simulating 1 year\n",
    "def yearSimulation(price: np.float64, possible_changes: np.ndarray):\n",
    "    #function to get 100 prices with random price changes \n",
    "    price_track = np.zeros(100)\n",
    "    for i in range(100):\n",
    "        if i == 0:\n",
    "            price_track[i] = price\n",
    "        else:\n",
    "            price += np.random.choice(possible_changes)\n",
    "            price_track[i] = price\n",
    "    \n",
    "    return price_track"
   ]
  },
  {
   "cell_type": "code",
   "execution_count": 136,
   "metadata": {},
   "outputs": [],
   "source": [
    "#10000 simulations\n",
    "def Simulate(number_simulations: int,starting_price: np.float64, possible_changes: np.ndarray):\n",
    "    matrix = np.zeros((number_simulations,100))\n",
    "\n",
    "    #loop to fill matrix from starting price adj close\n",
    "    for iteration in range(number_simulations):\n",
    "        matrix[iteration] = yearSimulation(starting_price, possible_changes = possible_changes)\n",
    "    x = np.arange(0,100)\n",
    "    y = matrix.mean(0)\n",
    "    y1 = np.percentile(matrix,2.5, axis=0)\n",
    "    y2 = np.percentile(matrix,97.5, axis=0)\n",
    "    return x,y,y1,y2\n"
   ]
  },
  {
   "cell_type": "code",
   "execution_count": 137,
   "metadata": {},
   "outputs": [
    {
     "data": {
      "image/png": "[encoded data removed]",
      "text/plain": [
       "<Figure size 960x640 with 1 Axes>"
      ]
     },
     "metadata": {
      "needs_background": "light"
     },
     "output_type": "display_data"
    }
   ],
   "source": [
    "#plotting the graph\n",
    "def plot():\n",
    "    x,y,y1,y2 = Simulate(number_simulations=10000, starting_price = df[\"Adj Close\"][0],possible_changes=change )\n",
    "    figure(figsize=(12, 8), dpi=80)\n",
    "    plt.plot(x, y, ls='-', c='black', label='avg')\n",
    "    plt.plot(x, y1, ls='-', c='blue', label='lower interval')\n",
    "    plt.plot(x, y2, ls='-', c='red', label='upper inteval')\n",
    "    plt.title(\"Graph showing 100 day prices with 10k iterations\")\n",
    "    plt.grid(which='both')\n",
    "    plt.legend()\n",
    "    plt.xlabel('Day')\n",
    "    plt.ylabel('Price')\n",
    "    plt.show()\n",
    "plot()"
   ]
  }
 ],
 "metadata": {
  "kernelspec": {
   "display_name": "Python 3",
   "language": "python",
   "name": "python3"
  },
  "language_info": {
   "codemirror_mode": {
    "name": "ipython",
    "version": 3
   },
   "file_extension": ".py",
   "mimetype": "text/x-python",
   "name": "python",
   "nbconvert_exporter": "python",
   "pygments_lexer": "ipython3",
   "version": "3.10.1"
  },
  "orig_nbformat": 4
 },
 "nbformat": 4,
 "nbformat_minor": 2
}
